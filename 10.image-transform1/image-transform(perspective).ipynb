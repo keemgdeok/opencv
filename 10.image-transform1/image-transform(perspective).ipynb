{
 "cells": [
  {
   "cell_type": "markdown",
   "metadata": {},
   "source": [
    "## 이미지 변형(원근)"
   ]
  },
  {
   "cell_type": "markdown",
   "metadata": {},
   "source": [
    "사다리꼴 이미지 펼치기"
   ]
  },
  {
   "cell_type": "code",
   "execution_count": 4,
   "metadata": {},
   "outputs": [],
   "source": [
    "import cv2\n",
    "import numpy as np\n",
    "\n",
    "img=cv2.imread('./newspaper.jpg')\n",
    "\n",
    "width, height=640, 240\n",
    "\n",
    "src=np.array([[511, 352], [1008, 345], [1122, 584], [455, 594]], dtype=np.float32) # input 4개 지침\n",
    "dst=np.array([[0,0], [width,0], [width, height], [0, height]], dtype=np.float32) # output 4개 지침\n",
    "\n",
    "matrix=cv2.getPerspectiveTransform(src, dst) # matrix 얻어옴\n",
    "result=cv2.warpPerspective(img, matrix, (width, height)) # matrix대로 변환을 함\n",
    "\n",
    "cv2.imshow('img', img)\n",
    "cv2.imshow('result', result)\n",
    "cv2.waitKey(0)\n",
    "cv2.destroyAllWindows()"
   ]
  },
  {
   "cell_type": "markdown",
   "metadata": {},
   "source": [
    "회전된 이미지 바르게 세우기"
   ]
  },
  {
   "cell_type": "code",
   "execution_count": 6,
   "metadata": {},
   "outputs": [],
   "source": [
    "import cv2\n",
    "import numpy as np\n",
    "\n",
    "img=cv2.imread('./poker.jpg')\n",
    "\n",
    "width, height=530, 710\n",
    "\n",
    "src=np.array([[702, 143], [1133, 414], [726, 1007], [276, 700]], dtype=np.float32) # input 4개 지침\n",
    "dst=np.array([[0,0], [width,0], [width, height], [0, height]], dtype=np.float32) # output 4개 지침\n",
    "\n",
    "matrix=cv2.getPerspectiveTransform(src, dst) # matrix 얻어옴\n",
    "result=cv2.warpPerspective(img, matrix, (width, height)) # matrix대로 변환을 함\n",
    "\n",
    "cv2.imshow('img', img)\n",
    "cv2.imshow('result', result)\n",
    "cv2.waitKey(0)\n",
    "cv2.destroyAllWindows()"
   ]
  }
 ],
 "metadata": {
  "kernelspec": {
   "display_name": "Python 3",
   "language": "python",
   "name": "python3"
  },
  "language_info": {
   "codemirror_mode": {
    "name": "ipython",
    "version": 3
   },
   "file_extension": ".py",
   "mimetype": "text/x-python",
   "name": "python",
   "nbconvert_exporter": "python",
   "pygments_lexer": "ipython3",
   "version": "3.9.13"
  },
  "orig_nbformat": 4
 },
 "nbformat": 4,
 "nbformat_minor": 2
}
