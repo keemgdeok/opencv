{
 "cells": [
  {
   "cell_type": "markdown",
   "metadata": {},
   "source": [
    "## 파일 저장"
   ]
  },
  {
   "cell_type": "code",
   "execution_count": 3,
   "metadata": {},
   "outputs": [
    {
     "name": "stdout",
     "output_type": "stream",
     "text": [
      "True\n"
     ]
    }
   ],
   "source": [
    "import cv2\n",
    "\n",
    "img=cv2.imread('./iamcat.jpg', cv2.IMREAD_GRAYSCALE) # 흑백 이미지로 불러오기\n",
    "\n",
    "cv2.imshow('iamcat', img)\n",
    "cv2.waitKey(0)\n",
    "cv2.destroyAllWindows()\n",
    "\n",
    "res=cv2.imwrite('./img_save.jpg', img)\n",
    "print(res)"
   ]
  },
  {
   "cell_type": "markdown",
   "metadata": {},
   "source": [
    "### 저장 포맷 (jpg, png)"
   ]
  },
  {
   "cell_type": "code",
   "execution_count": 5,
   "metadata": {},
   "outputs": [
    {
     "name": "stdout",
     "output_type": "stream",
     "text": [
      "True\n"
     ]
    }
   ],
   "source": [
    "import cv2\n",
    "\n",
    "img=cv2.imread('./iamcat.jpg', cv2.IMREAD_GRAYSCALE) # 흑백 이미지로 불러오기\n",
    "\n",
    "res=cv2.imwrite('./img_save.png', img) # .png\n",
    "print(res)"
   ]
  },
  {
   "cell_type": "markdown",
   "metadata": {},
   "source": [
    "## 동영상 저장"
   ]
  },
  {
   "cell_type": "code",
   "execution_count": 11,
   "metadata": {},
   "outputs": [],
   "source": [
    "import cv2\n",
    "cap=cv2.VideoCapture('./iamdog.mp4')\n",
    "\n",
    "# 코덱 정의\n",
    "fourcc=cv2.VideoWriter_fourcc(*'DIVV')\n",
    "\n",
    "# width, height 정의\n",
    "width=round(cap.get(cv2.CAP_PROP_FRAME_WIDTH))\n",
    "height=round(cap.get(cv2.CAP_PROP_FRAME_HEIGHT))\n",
    "\n",
    "# FPS 정의\n",
    "fps=cap.get(cv2.CAP_PROP_FPS)\n",
    "\n",
    "# (저장 파일명, 코덱, FPS, 크기(width, height))\n",
    "out=cv2.VideoWriter('ouput.avi', fourcc, fps, (width, height))\n",
    "\n",
    "\n",
    "while cap.isOpened():\n",
    "    ret, frame= cap.read()\n",
    "\n",
    "    if not ret: break\n",
    "\n",
    "    out.write(frame)\n",
    "    cv2.imshow('video', frame)\n",
    "    if cv2.waitKey(1)==ord('q'):\n",
    "        break\n",
    "\n",
    "out.release()\n",
    "cap.release()\n",
    "cv2.destroyAllWindows()"
   ]
  }
 ],
 "metadata": {
  "kernelspec": {
   "display_name": "Python 3",
   "language": "python",
   "name": "python3"
  },
  "language_info": {
   "codemirror_mode": {
    "name": "ipython",
    "version": 3
   },
   "file_extension": ".py",
   "mimetype": "text/x-python",
   "name": "python",
   "nbconvert_exporter": "python",
   "pygments_lexer": "ipython3",
   "version": "3.9.13"
  },
  "orig_nbformat": 4
 },
 "nbformat": 4,
 "nbformat_minor": 2
}
