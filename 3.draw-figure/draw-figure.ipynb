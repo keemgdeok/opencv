{
 "cells": [
  {
   "cell_type": "markdown",
   "metadata": {},
   "source": [
    "## 3. 도형그리기"
   ]
  },
  {
   "cell_type": "markdown",
   "metadata": {},
   "source": [
    "### 빈 스케치북 만들기"
   ]
  },
  {
   "cell_type": "code",
   "execution_count": 5,
   "metadata": {},
   "outputs": [],
   "source": [
    "import cv2\n",
    "import numpy as np\n",
    "\n",
    "# 세로 480 x 가로 640, 3 Channel [RGB]에 해당하는 스케치북 만들기\n",
    "img=np.zeros((480, 640, 3), dtype=np.uint8)\n",
    "# img[:]= (255, 255, 255) # 흰색으로 채우기  **opencv에서는 (B G R)로바뀜\n",
    "\n",
    "cv2.imshow('img', img)\n",
    "cv2.waitKey(0)\n",
    "cv2.destroyAllWindows()"
   ]
  },
  {
   "cell_type": "markdown",
   "metadata": {},
   "source": [
    "### 일부 영역 색칠"
   ]
  },
  {
   "cell_type": "code",
   "execution_count": 7,
   "metadata": {},
   "outputs": [],
   "source": [
    "import cv2\n",
    "import numpy as np\n",
    "\n",
    "img=np.zeros((480, 640, 3), dtype=np.uint8)\n",
    "\n",
    "# 일부 영역 설치\n",
    "img[100:200, 200:300]= (255, 255, 255) # 흰색으로 채우기  \n",
    "\n",
    "cv2.imshow('img', img)\n",
    "cv2.waitKey(0)\n",
    "cv2.destroyAllWindows()"
   ]
  },
  {
   "cell_type": "markdown",
   "metadata": {},
   "source": [
    "### 직선\n",
    "직선의 종류 (line type)\n",
    "1. cv2.LINE_4 : 상하좌우 4 방향으로 연결된 선\n",
    "2. cv2.LINE_8 : 대각선을 포함한 8 방향으로 연결된 선 (기본값)\n",
    "3. cv2.LINE_AA : 부드러운 선"
   ]
  },
  {
   "cell_type": "code",
   "execution_count": 13,
   "metadata": {},
   "outputs": [],
   "source": [
    "import cv2\n",
    "import numpy as np\n",
    "\n",
    "img=np.zeros((480, 640, 3), dtype=np.uint8)\n",
    "\n",
    "COLOR=(0, 255, 255) # BGF, Yellow\n",
    "THICKNESS=3 # 두께\n",
    "\n",
    "# cv2.line(그릴위치, 시작점, 끝점, 색깔, 두께, 선 종류)\n",
    "cv2.line(img, (50, 100), (400, 50), COLOR, THICKNESS, cv2.LINE_8)\n",
    "cv2.line(img, (50, 200), (400, 150), COLOR, THICKNESS, cv2.LINE_4)\n",
    "cv2.line(img, (50, 300), (400, 250), COLOR, THICKNESS, cv2.LINE_AA)\n",
    "\n",
    "cv2.imshow('img', img)\n",
    "cv2.waitKey(0)\n",
    "cv2.destroyAllWindows()"
   ]
  },
  {
   "cell_type": "markdown",
   "metadata": {},
   "source": [
    "### 원"
   ]
  },
  {
   "cell_type": "code",
   "execution_count": 20,
   "metadata": {},
   "outputs": [],
   "source": [
    "import cv2\n",
    "import numpy as np\n",
    "\n",
    "img=np.zeros((480, 640, 3), dtype=np.uint8)\n",
    "\n",
    "COLOR=(255, 255, 0) # BGF, Yellow\n",
    "RADIUS=50 # 반지름\n",
    "THICKNESS=2 # 두께\n",
    "\n",
    "# (그릴위치, 중심점, 반지름, 색깔, 두께, 선 종류)\n",
    "cv2.circle(img, (200,100), RADIUS, COLOR, THICKNESS, cv2.LINE_AA)\n",
    "cv2.circle(img, (400,100), RADIUS, COLOR, cv2.FILLED, cv2.LINE_AA) \n",
    "# 꽉찬 원 THICKNESS=-1\n",
    "\n",
    "\n",
    "cv2.imshow('img', img)\n",
    "cv2.waitKey(0)\n",
    "cv2.destroyAllWindows()"
   ]
  },
  {
   "cell_type": "markdown",
   "metadata": {},
   "source": [
    "### 사각형"
   ]
  },
  {
   "cell_type": "code",
   "execution_count": 25,
   "metadata": {},
   "outputs": [],
   "source": [
    "import cv2\n",
    "import numpy as np\n",
    "\n",
    "img=np.zeros((480, 640, 3), dtype=np.uint8)\n",
    "\n",
    "COLOR=(0, 255, 0) # BGF, Green\n",
    "THICKNESS=2 # 두께\n",
    "\n",
    "# (그릴 위치, 왼쪽위, 오른쪽아래, 색깔, 두께)\n",
    "cv2.rectangle(img, (100,100), (200, 200), COLOR, THICKNESS) # 속이 빈\n",
    "cv2.rectangle(img, (300,100), (400, 300), COLOR, -1) # 꽉 찬\n",
    "\n",
    "cv2.imshow('img', img)\n",
    "cv2.waitKey(0)\n",
    "cv2.destroyAllWindows()"
   ]
  },
  {
   "cell_type": "markdown",
   "metadata": {},
   "source": [
    "### 다각형"
   ]
  },
  {
   "cell_type": "code",
   "execution_count": 33,
   "metadata": {},
   "outputs": [],
   "source": [
    "import cv2\n",
    "import numpy as np\n",
    "\n",
    "img=np.zeros((480, 640, 3), dtype=np.uint8)\n",
    "\n",
    "COLOR=(0, 0, 255) # BGF, Red\n",
    "THICKNESS=2 # 두께\n",
    "\n",
    "# n개의 꼭짓점\n",
    "pts1=np.array([[100,100], [200,100], [100,200]])\n",
    "pts2=np.array([[200,100], [300,100], [300,200]])\n",
    "\n",
    "# 그릴 위치, 그릴 좌표들, 닫힘 여부, 색깔, 두께, 선 종류\n",
    "cv2.polylines(img, [pts1], True, COLOR, THICKNESS, cv2.LINE_AA)\n",
    "cv2.polylines(img, [pts2], True, COLOR, THICKNESS, cv2.LINE_AA)\n",
    "cv2.polylines(img, [pts1, pts2], True, COLOR, THICKNESS, cv2.LINE_AA)\n",
    "\n",
    "\n",
    "\n",
    "# 속이 꽉찬 다각형\n",
    "pts3=np.array([[[100, 300] ,[200, 300], [100, 400]], \n",
    "               [[200, 300], [300, 300], [300, 400]]])\n",
    "\n",
    "# (그릴 위치, 좌표, 색깔, 선 종류)\n",
    "cv2.fillPoly(img, pts3, COLOR, cv2.LINE_AA)\n",
    "\n",
    "\n",
    "cv2.imshow('img', img)\n",
    "cv2.waitKey(0)\n",
    "cv2.destroyAllWindows()"
   ]
  },
  {
   "cell_type": "code",
   "execution_count": null,
   "metadata": {},
   "outputs": [],
   "source": []
  }
 ],
 "metadata": {
  "kernelspec": {
   "display_name": "Python 3",
   "language": "python",
   "name": "python3"
  },
  "language_info": {
   "codemirror_mode": {
    "name": "ipython",
    "version": 3
   },
   "file_extension": ".py",
   "mimetype": "text/x-python",
   "name": "python",
   "nbconvert_exporter": "python",
   "pygments_lexer": "ipython3",
   "version": "3.9.13"
  },
  "orig_nbformat": 4
 },
 "nbformat": 4,
 "nbformat_minor": 2
}
